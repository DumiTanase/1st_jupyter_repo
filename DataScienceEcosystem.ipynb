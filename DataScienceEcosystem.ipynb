{
 "cells": [
  {
   "cell_type": "markdown",
   "id": "7bdb268f",
   "metadata": {},
   "source": [
    "## Author\n",
    "Dumitru Tanase"
   ]
  },
  {
   "cell_type": "markdown",
   "id": "9d2ba3d2",
   "metadata": {},
   "source": [
    "# Data Science Tools and Ecosystem\n"
   ]
  },
  {
   "cell_type": "markdown",
   "id": "66e1fc63",
   "metadata": {},
   "source": [
    "#### In this notebook Data Science tools and ecosystem are summarized\n"
   ]
  },
  {
   "cell_type": "markdown",
   "id": "1bd4332f",
   "metadata": {},
   "source": [
    "##### Objectives \n",
    "* Create markdown cells \n",
    "* Create code cells\n",
    "* List programming languages used in Data Science\n",
    "* List libraries used in Data Science\n",
    "* Create a table\n",
    "* Create basic arithmetic operations"
   ]
  },
  {
   "cell_type": "markdown",
   "id": "2111c97c",
   "metadata": {},
   "source": [
    "#### Some of the commonly used libraries used by Data Scientist include: \n",
    "1. NumPy\n",
    "2. Pandas\n",
    "3. PyTorch\n",
    "4. TensorFlow\n",
    "5. Matplotlib"
   ]
  },
  {
   "cell_type": "markdown",
   "id": "de509c2c",
   "metadata": {},
   "source": [
    "##### Some of the commonly used languages that Data Scienties use are:\n",
    "1. Python\n",
    "2. R\n",
    "3. Julia \n",
    "4. Sql\n",
    "5. Java\n",
    "6. JavaScript"
   ]
  },
  {
   "cell_type": "markdown",
   "id": "c17d367c",
   "metadata": {},
   "source": [
    "|Data Science Tools | \n",
    "|-------------------|\n",
    "|Pycharm|\n",
    "|Rstudio|\n",
    "|Anaconda Navigator|"
   ]
  },
  {
   "cell_type": "markdown",
   "id": "36dd18ab",
   "metadata": {},
   "source": [
    "### Below are a few examples of evaluating arithmetic expressions in Python\n"
   ]
  },
  {
   "cell_type": "markdown",
   "id": "22d81ac8",
   "metadata": {},
   "source": [
    "This is a simple arithmetic expression to multiply then add integers\n"
   ]
  },
  {
   "cell_type": "code",
   "execution_count": 1,
   "id": "9b0e95f1",
   "metadata": {},
   "outputs": [
    {
     "data": {
      "text/plain": [
       "17"
      ]
     },
     "execution_count": 1,
     "metadata": {},
     "output_type": "execute_result"
    }
   ],
   "source": [
    "(3*4)+5\n"
   ]
  },
  {
   "cell_type": "markdown",
   "id": "d9f7e38f",
   "metadata": {},
   "source": [
    "This will convert 200 minutes to hours by dividing by 60\n"
   ]
  },
  {
   "cell_type": "code",
   "execution_count": 2,
   "id": "cfaffb29",
   "metadata": {},
   "outputs": [
    {
     "data": {
      "text/plain": [
       "3.3333333333333335"
      ]
     },
     "execution_count": 2,
     "metadata": {},
     "output_type": "execute_result"
    }
   ],
   "source": [
    "200/60"
   ]
  },
  {
   "cell_type": "code",
   "execution_count": null,
   "id": "e8e337df",
   "metadata": {},
   "outputs": [],
   "source": []
  }
 ],
 "metadata": {
  "kernelspec": {
   "display_name": "Python 3 (ipykernel)",
   "language": "python",
   "name": "python3"
  },
  "language_info": {
   "codemirror_mode": {
    "name": "ipython",
    "version": 3
   },
   "file_extension": ".py",
   "mimetype": "text/x-python",
   "name": "python",
   "nbconvert_exporter": "python",
   "pygments_lexer": "ipython3",
   "version": "3.10.9"
  }
 },
 "nbformat": 4,
 "nbformat_minor": 5
}
